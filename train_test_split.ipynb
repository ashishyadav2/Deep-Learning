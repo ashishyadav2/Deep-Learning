{
 "cells": [
  {
   "cell_type": "code",
   "execution_count": 50,
   "metadata": {},
   "outputs": [],
   "source": [
    "import os\n",
    "import shutil\n",
    "import random\n",
    "def train_test_split(base_directory,train_split=0.8,val_split=0.1,test_split=0.1):\n",
    "    dirt = os.listdir(base_directory)\n",
    "    base_directory_len = len(dirt)\n",
    "    train_len = int(base_directory_len*train_split)\n",
    "    val_len = int(base_directory_len*val_split)\n",
    "    test_len = int(base_directory_len*test_split)\n",
    "    train_ds = []\n",
    "    val_ds = []\n",
    "    test_ds = []\n",
    "    arr = list(range(base_directory_len))\n",
    "    random.shuffle(arr)\n",
    "    train_ds = [dirt[arr[i]] for i in range(0,train_len,1)] \n",
    "    val_ds = [dirt[arr[i]] for i in range(train_len,train_len+val_len,1)] \n",
    "    test_ds = [dirt[arr[i]] for i in range(train_len+val_len,base_directory_len,1)] \n",
    "    \n",
    "    dest_folders = ['Train','Valid','Test']\n",
    "    for m in dest_folders:\n",
    "        path = os.path.join(m,base_directory)\n",
    "        if not os.path.exists(path):\n",
    "            os.makedirs(path)\n",
    "        \n",
    "    ds_list = [train_ds,val_ds,test_ds]\n",
    "    for index,ds in enumerate(ds_list):\n",
    "        path = os.path.join(dest_folders[index],base_directory)\n",
    "        move_images(ds,base_directory,path)   \n",
    "        print(path) \n",
    "        \n",
    "def move_images(img_list, base_dir, dest_folder):\n",
    "    for image in img_list:\n",
    "        src_file = os.path.join(base_dir, image)\n",
    "        dest_file = os.path.join(dest_folder, image)\n",
    "        if os.path.exists(dest_file):\n",
    "            continue\n",
    "        shutil.copy(src_file, dest_file)\n",
    "    "
   ]
  },
  {
   "cell_type": "code",
   "execution_count": 51,
   "metadata": {},
   "outputs": [
    {
     "ename": "FileNotFoundError",
     "evalue": "[WinError 3] The system cannot find the path specified: '/content/PlantVillage/Potato___Early_blight'",
     "output_type": "error",
     "traceback": [
      "\u001b[1;31m---------------------------------------------------------------------------\u001b[0m",
      "\u001b[1;31mFileNotFoundError\u001b[0m                         Traceback (most recent call last)",
      "Cell \u001b[1;32mIn[51], line 3\u001b[0m\n\u001b[0;32m      1\u001b[0m dir_list \u001b[39m=\u001b[39m [\u001b[39m'\u001b[39m\u001b[39m/content/PlantVillage/Potato___Early_blight\u001b[39m\u001b[39m'\u001b[39m,\u001b[39m'\u001b[39m\u001b[39m/content/PlantVillage/Potato___Late_blight\u001b[39m\u001b[39m'\u001b[39m,\u001b[39m'\u001b[39m\u001b[39m/content/PlantVillage/Potato___healthy\u001b[39m\u001b[39m'\u001b[39m]\n\u001b[0;32m      2\u001b[0m \u001b[39mfor\u001b[39;00m i \u001b[39min\u001b[39;00m dir_list:\n\u001b[1;32m----> 3\u001b[0m   train_test_split(i)\n",
      "Cell \u001b[1;32mIn[50], line 5\u001b[0m, in \u001b[0;36mtrain_test_split\u001b[1;34m(base_directory, train_split, val_split, test_split)\u001b[0m\n\u001b[0;32m      4\u001b[0m \u001b[39mdef\u001b[39;00m \u001b[39mtrain_test_split\u001b[39m(base_directory,train_split\u001b[39m=\u001b[39m\u001b[39m0.8\u001b[39m,val_split\u001b[39m=\u001b[39m\u001b[39m0.1\u001b[39m,test_split\u001b[39m=\u001b[39m\u001b[39m0.1\u001b[39m):\n\u001b[1;32m----> 5\u001b[0m     dirt \u001b[39m=\u001b[39m os\u001b[39m.\u001b[39;49mlistdir(base_directory)\n\u001b[0;32m      6\u001b[0m     base_directory_len \u001b[39m=\u001b[39m \u001b[39mlen\u001b[39m(dirt)\n\u001b[0;32m      7\u001b[0m     train_len \u001b[39m=\u001b[39m \u001b[39mint\u001b[39m(base_directory_len\u001b[39m*\u001b[39mtrain_split)\n",
      "\u001b[1;31mFileNotFoundError\u001b[0m: [WinError 3] The system cannot find the path specified: '/content/PlantVillage/Potato___Early_blight'"
     ]
    }
   ],
   "source": [
    "dir_list = ['/content/PlantVillage/Potato___Early_blight','/content/PlantVillage/Potato___Late_blight','/content/PlantVillage/Potato___healthy']\n",
    "# for i in dir_list:\n",
    "#   train_test_split(i)"
   ]
  }
 ],
 "metadata": {
  "kernelspec": {
   "display_name": "Python 3",
   "language": "python",
   "name": "python3"
  },
  "language_info": {
   "codemirror_mode": {
    "name": "ipython",
    "version": 3
   },
   "file_extension": ".py",
   "mimetype": "text/x-python",
   "name": "python",
   "nbconvert_exporter": "python",
   "pygments_lexer": "ipython3",
   "version": "3.11.4"
  },
  "orig_nbformat": 4
 },
 "nbformat": 4,
 "nbformat_minor": 2
}
